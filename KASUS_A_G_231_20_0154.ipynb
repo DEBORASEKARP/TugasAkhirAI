{
  "nbformat": 4,
  "nbformat_minor": 0,
  "metadata": {
    "colab": {
      "provenance": []
    },
    "kernelspec": {
      "name": "python3",
      "display_name": "Python 3"
    },
    "language_info": {
      "name": "python"
    }
  },
  "cells": [
    {
      "cell_type": "code",
      "source": [
        "import numpy as np\n",
        "import pandas as pd\n",
        "from sklearn.model_selection import train_test_split\n",
        "from sklearn.preprocessing import LabelEncoder\n",
        "from sklearn.metrics import accuracy_score\n",
        "from keras.models import Sequential\n",
        "from keras.layers import Dense\n",
        "from keras.optimizers import Adam"
      ],
      "metadata": {
        "id": "GbawsPFZyAI2"
      },
      "execution_count": null,
      "outputs": []
    },
    {
      "cell_type": "code",
      "source": [
        "# Baca dataset Iris\n",
        "iris_data = pd.read_csv('/content/drive/MyDrive/iris (1).csv')"
      ],
      "metadata": {
        "id": "DI-zsfrwyAyG"
      },
      "execution_count": null,
      "outputs": []
    },
    {
      "cell_type": "code",
      "source": [
        "# Preprocessing dataset\n",
        "X = iris_data.iloc[:, :-1].values\n",
        "y = iris_data.iloc[:, -1].values"
      ],
      "metadata": {
        "id": "TumaMIbByKGT"
      },
      "execution_count": null,
      "outputs": []
    },
    {
      "cell_type": "code",
      "source": [
        "# Encoding label kelas menjadi angka\n",
        "le = LabelEncoder()\n",
        "y = le.fit_transform(y)"
      ],
      "metadata": {
        "id": "b6XYzgj6yM8y"
      },
      "execution_count": null,
      "outputs": []
    },
    {
      "cell_type": "code",
      "source": [
        "# Split dataset menjadi data latih dan data uji\n",
        "X_train, X_test, y_train, y_test = train_test_split(X, y, test_size=0.35, random_state=42)"
      ],
      "metadata": {
        "id": "DiQbAy5FyPOh"
      },
      "execution_count": null,
      "outputs": []
    },
    {
      "cell_type": "code",
      "source": [
        "# Membangun model ANN\n",
        "model = Sequential()\n",
        "model.add(Dense(16, input_dim=4, activation='relu'))\n",
        "model.add(Dense(16, activation='relu'))\n",
        "model.add(Dense(16, activation='relu'))\n",
        "model.add(Dense(16, activation='softmax'))"
      ],
      "metadata": {
        "id": "XmQh8Ml2yRpi"
      },
      "execution_count": null,
      "outputs": []
    },
    {
      "cell_type": "code",
      "source": [
        "# Mengompilasi model dengan optimizer Adam dan fungsi loss categorical_crossentropy\n",
        "model.compile(optimizer=Adam(), loss='sparse_categorical_crossentropy', metrics=['accuracy'])"
      ],
      "metadata": {
        "id": "xb1qc9P6yUqU"
      },
      "execution_count": null,
      "outputs": []
    },
    {
      "cell_type": "code",
      "source": [
        "# Melatih model pada data latih\n",
        "model.fit(X_train, y_train, epochs=100, batch_size=8, verbose=1)"
      ],
      "metadata": {
        "colab": {
          "base_uri": "https://localhost:8080/"
        },
        "id": "fO36G7LxyXJX",
        "outputId": "65f805bd-4525-4dfe-cfe3-aa0736f014e5"
      },
      "execution_count": null,
      "outputs": [
        {
          "output_type": "stream",
          "name": "stdout",
          "text": [
            "Epoch 1/100\n",
            "13/13 [==============================] - 0s 2ms/step - loss: 4.0289 - accuracy: 0.0000e+00\n",
            "Epoch 2/100\n",
            "13/13 [==============================] - 0s 1ms/step - loss: 3.0765 - accuracy: 0.0000e+00\n",
            "Epoch 3/100\n",
            "13/13 [==============================] - 0s 1ms/step - loss: 2.4363 - accuracy: 0.2371\n",
            "Epoch 4/100\n",
            "13/13 [==============================] - 0s 2ms/step - loss: 1.9846 - accuracy: 0.3402\n",
            "Epoch 5/100\n",
            "13/13 [==============================] - 0s 2ms/step - loss: 1.6360 - accuracy: 0.3402\n",
            "Epoch 6/100\n",
            "13/13 [==============================] - 0s 2ms/step - loss: 1.3488 - accuracy: 0.3402\n",
            "Epoch 7/100\n",
            "13/13 [==============================] - 0s 2ms/step - loss: 1.1758 - accuracy: 0.3402\n",
            "Epoch 8/100\n",
            "13/13 [==============================] - 0s 2ms/step - loss: 1.0829 - accuracy: 0.3608\n",
            "Epoch 9/100\n",
            "13/13 [==============================] - 0s 2ms/step - loss: 1.0080 - accuracy: 0.4845\n",
            "Epoch 10/100\n",
            "13/13 [==============================] - 0s 2ms/step - loss: 0.9364 - accuracy: 0.6701\n",
            "Epoch 11/100\n",
            "13/13 [==============================] - 0s 1ms/step - loss: 0.8838 - accuracy: 0.6598\n",
            "Epoch 12/100\n",
            "13/13 [==============================] - 0s 2ms/step - loss: 0.8390 - accuracy: 0.6598\n",
            "Epoch 13/100\n",
            "13/13 [==============================] - 0s 2ms/step - loss: 0.8346 - accuracy: 0.6495\n",
            "Epoch 14/100\n",
            "13/13 [==============================] - 0s 1ms/step - loss: 0.7543 - accuracy: 0.7320\n",
            "Epoch 15/100\n",
            "13/13 [==============================] - 0s 2ms/step - loss: 0.7417 - accuracy: 0.6598\n",
            "Epoch 16/100\n",
            "13/13 [==============================] - 0s 1ms/step - loss: 0.6938 - accuracy: 0.6701\n",
            "Epoch 17/100\n",
            "13/13 [==============================] - 0s 2ms/step - loss: 0.6609 - accuracy: 0.7010\n",
            "Epoch 18/100\n",
            "13/13 [==============================] - 0s 1ms/step - loss: 0.6334 - accuracy: 0.6907\n",
            "Epoch 19/100\n",
            "13/13 [==============================] - 0s 2ms/step - loss: 0.6189 - accuracy: 0.8041\n",
            "Epoch 20/100\n",
            "13/13 [==============================] - 0s 2ms/step - loss: 0.5885 - accuracy: 0.8041\n",
            "Epoch 21/100\n",
            "13/13 [==============================] - 0s 2ms/step - loss: 0.5734 - accuracy: 0.6598\n",
            "Epoch 22/100\n",
            "13/13 [==============================] - 0s 2ms/step - loss: 0.5584 - accuracy: 0.7835\n",
            "Epoch 23/100\n",
            "13/13 [==============================] - 0s 2ms/step - loss: 0.5703 - accuracy: 0.6598\n",
            "Epoch 24/100\n",
            "13/13 [==============================] - 0s 2ms/step - loss: 0.5368 - accuracy: 0.7320\n",
            "Epoch 25/100\n",
            "13/13 [==============================] - 0s 2ms/step - loss: 0.5143 - accuracy: 0.8351\n",
            "Epoch 26/100\n",
            "13/13 [==============================] - 0s 2ms/step - loss: 0.4913 - accuracy: 0.8041\n",
            "Epoch 27/100\n",
            "13/13 [==============================] - 0s 2ms/step - loss: 0.4845 - accuracy: 0.8557\n",
            "Epoch 28/100\n",
            "13/13 [==============================] - 0s 2ms/step - loss: 0.4892 - accuracy: 0.7938\n",
            "Epoch 29/100\n",
            "13/13 [==============================] - 0s 2ms/step - loss: 0.4636 - accuracy: 0.7938\n",
            "Epoch 30/100\n",
            "13/13 [==============================] - 0s 2ms/step - loss: 0.4575 - accuracy: 0.8247\n",
            "Epoch 31/100\n",
            "13/13 [==============================] - 0s 2ms/step - loss: 0.4463 - accuracy: 0.9072\n",
            "Epoch 32/100\n",
            "13/13 [==============================] - 0s 2ms/step - loss: 0.4382 - accuracy: 0.9072\n",
            "Epoch 33/100\n",
            "13/13 [==============================] - 0s 2ms/step - loss: 0.4294 - accuracy: 0.8763\n",
            "Epoch 34/100\n",
            "13/13 [==============================] - 0s 2ms/step - loss: 0.4237 - accuracy: 0.8247\n",
            "Epoch 35/100\n",
            "13/13 [==============================] - 0s 2ms/step - loss: 0.4162 - accuracy: 0.8763\n",
            "Epoch 36/100\n",
            "13/13 [==============================] - 0s 2ms/step - loss: 0.4117 - accuracy: 0.9072\n",
            "Epoch 37/100\n",
            "13/13 [==============================] - 0s 2ms/step - loss: 0.4153 - accuracy: 0.8247\n",
            "Epoch 38/100\n",
            "13/13 [==============================] - 0s 2ms/step - loss: 0.3978 - accuracy: 0.9072\n",
            "Epoch 39/100\n",
            "13/13 [==============================] - 0s 2ms/step - loss: 0.3910 - accuracy: 0.8866\n",
            "Epoch 40/100\n",
            "13/13 [==============================] - 0s 2ms/step - loss: 0.3846 - accuracy: 0.8763\n",
            "Epoch 41/100\n",
            "13/13 [==============================] - 0s 1ms/step - loss: 0.3894 - accuracy: 0.8660\n",
            "Epoch 42/100\n",
            "13/13 [==============================] - 0s 1ms/step - loss: 0.3643 - accuracy: 0.9485\n",
            "Epoch 43/100\n",
            "13/13 [==============================] - 0s 2ms/step - loss: 0.3684 - accuracy: 0.8866\n",
            "Epoch 44/100\n",
            "13/13 [==============================] - 0s 1ms/step - loss: 0.3532 - accuracy: 0.9588\n",
            "Epoch 45/100\n",
            "13/13 [==============================] - 0s 1ms/step - loss: 0.3675 - accuracy: 0.8351\n",
            "Epoch 46/100\n",
            "13/13 [==============================] - 0s 1ms/step - loss: 0.3929 - accuracy: 0.7835\n",
            "Epoch 47/100\n",
            "13/13 [==============================] - 0s 1ms/step - loss: 0.3554 - accuracy: 0.8454\n",
            "Epoch 48/100\n",
            "13/13 [==============================] - 0s 2ms/step - loss: 0.3508 - accuracy: 0.8763\n",
            "Epoch 49/100\n",
            "13/13 [==============================] - 0s 1ms/step - loss: 0.3225 - accuracy: 0.9485\n",
            "Epoch 50/100\n",
            "13/13 [==============================] - 0s 2ms/step - loss: 0.3267 - accuracy: 0.9175\n",
            "Epoch 51/100\n",
            "13/13 [==============================] - 0s 1ms/step - loss: 0.3128 - accuracy: 0.9485\n",
            "Epoch 52/100\n",
            "13/13 [==============================] - 0s 1ms/step - loss: 0.3134 - accuracy: 0.9072\n",
            "Epoch 53/100\n",
            "13/13 [==============================] - 0s 1ms/step - loss: 0.3117 - accuracy: 0.9175\n",
            "Epoch 54/100\n",
            "13/13 [==============================] - 0s 1ms/step - loss: 0.2944 - accuracy: 0.9381\n",
            "Epoch 55/100\n",
            "13/13 [==============================] - 0s 1ms/step - loss: 0.2952 - accuracy: 0.9381\n",
            "Epoch 56/100\n",
            "13/13 [==============================] - 0s 1ms/step - loss: 0.2851 - accuracy: 0.9278\n",
            "Epoch 57/100\n",
            "13/13 [==============================] - 0s 1ms/step - loss: 0.2855 - accuracy: 0.9381\n",
            "Epoch 58/100\n",
            "13/13 [==============================] - 0s 2ms/step - loss: 0.2878 - accuracy: 0.9175\n",
            "Epoch 59/100\n",
            "13/13 [==============================] - 0s 2ms/step - loss: 0.2799 - accuracy: 0.9175\n",
            "Epoch 60/100\n",
            "13/13 [==============================] - 0s 2ms/step - loss: 0.2790 - accuracy: 0.8969\n",
            "Epoch 61/100\n",
            "13/13 [==============================] - 0s 1ms/step - loss: 0.2581 - accuracy: 0.9485\n",
            "Epoch 62/100\n",
            "13/13 [==============================] - 0s 1ms/step - loss: 0.2541 - accuracy: 0.9485\n",
            "Epoch 63/100\n",
            "13/13 [==============================] - 0s 2ms/step - loss: 0.2480 - accuracy: 0.9588\n",
            "Epoch 64/100\n",
            "13/13 [==============================] - 0s 1ms/step - loss: 0.2489 - accuracy: 0.9588\n",
            "Epoch 65/100\n",
            "13/13 [==============================] - 0s 1ms/step - loss: 0.2430 - accuracy: 0.9485\n",
            "Epoch 66/100\n",
            "13/13 [==============================] - 0s 1ms/step - loss: 0.2414 - accuracy: 0.9278\n",
            "Epoch 67/100\n",
            "13/13 [==============================] - 0s 1ms/step - loss: 0.2271 - accuracy: 0.9588\n",
            "Epoch 68/100\n",
            "13/13 [==============================] - 0s 1ms/step - loss: 0.2281 - accuracy: 0.9691\n",
            "Epoch 69/100\n",
            "13/13 [==============================] - 0s 2ms/step - loss: 0.2528 - accuracy: 0.9175\n",
            "Epoch 70/100\n",
            "13/13 [==============================] - 0s 1ms/step - loss: 0.2372 - accuracy: 0.9381\n",
            "Epoch 71/100\n",
            "13/13 [==============================] - 0s 1ms/step - loss: 0.2089 - accuracy: 0.9588\n",
            "Epoch 72/100\n",
            "13/13 [==============================] - 0s 1ms/step - loss: 0.2152 - accuracy: 0.9485\n",
            "Epoch 73/100\n",
            "13/13 [==============================] - 0s 2ms/step - loss: 0.2029 - accuracy: 0.9588\n",
            "Epoch 74/100\n",
            "13/13 [==============================] - 0s 1ms/step - loss: 0.2126 - accuracy: 0.9381\n",
            "Epoch 75/100\n",
            "13/13 [==============================] - 0s 1ms/step - loss: 0.2040 - accuracy: 0.9485\n",
            "Epoch 76/100\n",
            "13/13 [==============================] - 0s 2ms/step - loss: 0.1955 - accuracy: 0.9485\n",
            "Epoch 77/100\n",
            "13/13 [==============================] - 0s 1ms/step - loss: 0.1902 - accuracy: 0.9588\n",
            "Epoch 78/100\n",
            "13/13 [==============================] - 0s 2ms/step - loss: 0.1874 - accuracy: 0.9691\n",
            "Epoch 79/100\n",
            "13/13 [==============================] - 0s 1ms/step - loss: 0.1816 - accuracy: 0.9588\n",
            "Epoch 80/100\n",
            "13/13 [==============================] - 0s 1ms/step - loss: 0.1783 - accuracy: 0.9588\n",
            "Epoch 81/100\n",
            "13/13 [==============================] - 0s 1ms/step - loss: 0.1794 - accuracy: 0.9691\n",
            "Epoch 82/100\n",
            "13/13 [==============================] - 0s 1ms/step - loss: 0.1745 - accuracy: 0.9588\n",
            "Epoch 83/100\n",
            "13/13 [==============================] - 0s 1ms/step - loss: 0.1859 - accuracy: 0.9588\n",
            "Epoch 84/100\n",
            "13/13 [==============================] - 0s 2ms/step - loss: 0.1786 - accuracy: 0.9588\n",
            "Epoch 85/100\n",
            "13/13 [==============================] - 0s 1ms/step - loss: 0.1710 - accuracy: 0.9588\n",
            "Epoch 86/100\n",
            "13/13 [==============================] - 0s 1ms/step - loss: 0.1661 - accuracy: 0.9588\n",
            "Epoch 87/100\n",
            "13/13 [==============================] - 0s 2ms/step - loss: 0.1601 - accuracy: 0.9588\n",
            "Epoch 88/100\n",
            "13/13 [==============================] - 0s 1ms/step - loss: 0.1624 - accuracy: 0.9485\n",
            "Epoch 89/100\n",
            "13/13 [==============================] - 0s 1ms/step - loss: 0.1555 - accuracy: 0.9691\n",
            "Epoch 90/100\n",
            "13/13 [==============================] - 0s 2ms/step - loss: 0.1800 - accuracy: 0.9588\n",
            "Epoch 91/100\n",
            "13/13 [==============================] - 0s 1ms/step - loss: 0.1484 - accuracy: 0.9588\n",
            "Epoch 92/100\n",
            "13/13 [==============================] - 0s 1ms/step - loss: 0.1455 - accuracy: 0.9691\n",
            "Epoch 93/100\n",
            "13/13 [==============================] - 0s 1ms/step - loss: 0.1458 - accuracy: 0.9588\n",
            "Epoch 94/100\n",
            "13/13 [==============================] - 0s 1ms/step - loss: 0.1461 - accuracy: 0.9588\n",
            "Epoch 95/100\n",
            "13/13 [==============================] - 0s 2ms/step - loss: 0.1444 - accuracy: 0.9691\n",
            "Epoch 96/100\n",
            "13/13 [==============================] - 0s 1ms/step - loss: 0.1418 - accuracy: 0.9588\n",
            "Epoch 97/100\n",
            "13/13 [==============================] - 0s 1ms/step - loss: 0.1437 - accuracy: 0.9588\n",
            "Epoch 98/100\n",
            "13/13 [==============================] - 0s 1ms/step - loss: 0.1475 - accuracy: 0.9588\n",
            "Epoch 99/100\n",
            "13/13 [==============================] - 0s 1ms/step - loss: 0.1328 - accuracy: 0.9691\n",
            "Epoch 100/100\n",
            "13/13 [==============================] - 0s 1ms/step - loss: 0.1322 - accuracy: 0.9691\n"
          ]
        },
        {
          "output_type": "execute_result",
          "data": {
            "text/plain": [
              "<keras.callbacks.History at 0x7f37a798e140>"
            ]
          },
          "metadata": {},
          "execution_count": 20
        }
      ]
    },
    {
      "cell_type": "code",
      "source": [
        "predict_x=model.predict(X_test)\n",
        "classes_x=np.argmax(predict_x,axis=1)"
      ],
      "metadata": {
        "colab": {
          "base_uri": "https://localhost:8080/"
        },
        "id": "Zeir70cHyaSe",
        "outputId": "f26723c7-fd77-4ac1-83fe-a7ead89effdd"
      },
      "execution_count": null,
      "outputs": [
        {
          "output_type": "stream",
          "name": "stdout",
          "text": [
            "2/2 [==============================] - 0s 3ms/step\n"
          ]
        }
      ]
    },
    {
      "cell_type": "code",
      "source": [
        "# Menghitung akurasi model\n",
        "accuracy = accuracy_score(y_test, classes_x)\n",
        "print(\"Akurasi Model: {:.2f}%\".format(accuracy * 100))"
      ],
      "metadata": {
        "colab": {
          "base_uri": "https://localhost:8080/"
        },
        "id": "ymJfRA2YydOn",
        "outputId": "81829762-ccfb-43b5-bcf4-1dfc68d5be55"
      },
      "execution_count": null,
      "outputs": [
        {
          "output_type": "stream",
          "name": "stdout",
          "text": [
            "Akurasi Model: 98.11%\n"
          ]
        }
      ]
    }
  ]
}